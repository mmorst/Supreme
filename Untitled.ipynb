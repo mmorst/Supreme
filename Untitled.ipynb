{
 "cells": [
  {
   "cell_type": "code",
   "execution_count": 1,
   "metadata": {},
   "outputs": [
    {
     "name": "stdout",
     "output_type": "stream",
     "text": [
      "Hello World\n"
     ]
    }
   ],
   "source": [
    "import test_m\n",
    "test_m.hello()"
   ]
  },
  {
   "cell_type": "code",
   "execution_count": 5,
   "metadata": {},
   "outputs": [
    {
     "ename": "NameError",
     "evalue": "name 'px_size_m' is not defined",
     "output_type": "error",
     "traceback": [
      "\u001b[1;31m---------------------------------------------------------------------------\u001b[0m",
      "\u001b[1;31mNameError\u001b[0m                                 Traceback (most recent call last)",
      "\u001b[1;32m<ipython-input-5-711f4e76d65a>\u001b[0m in \u001b[0;36m<module>\u001b[1;34m\u001b[0m\n\u001b[0;32m     16\u001b[0m     \u001b[1;32mreturn\u001b[0m \u001b[1;33m[\u001b[0m\u001b[0mf_cpm\u001b[0m\u001b[1;33m,\u001b[0m \u001b[0mpx_size_m\u001b[0m\u001b[1;33m,\u001b[0m \u001b[0mimg_size_m\u001b[0m\u001b[1;33m]\u001b[0m\u001b[1;33m\u001b[0m\u001b[1;33m\u001b[0m\u001b[0m\n\u001b[0;32m     17\u001b[0m \u001b[1;33m\u001b[0m\u001b[0m\n\u001b[1;32m---> 18\u001b[1;33m \u001b[0mf_cpm\u001b[0m \u001b[1;33m=\u001b[0m \u001b[0msetfreq\u001b[0m\u001b[1;33m(\u001b[0m\u001b[0mpx_size_m\u001b[0m\u001b[1;33m,\u001b[0m \u001b[0mimg_size_m\u001b[0m\u001b[1;33m)\u001b[0m\u001b[1;33m[\u001b[0m\u001b[1;36m0\u001b[0m\u001b[1;33m]\u001b[0m\u001b[1;33m\u001b[0m\u001b[1;33m\u001b[0m\u001b[0m\n\u001b[0m\u001b[0;32m     19\u001b[0m \u001b[0mdx_m\u001b[0m \u001b[1;33m=\u001b[0m \u001b[0msetfreq\u001b[0m\u001b[1;33m(\u001b[0m\u001b[0mpx_size_m\u001b[0m\u001b[1;33m,\u001b[0m \u001b[0mimg_size_m\u001b[0m\u001b[1;33m)\u001b[0m\u001b[1;33m[\u001b[0m\u001b[1;36m1\u001b[0m\u001b[1;33m]\u001b[0m  \u001b[1;31m#pixel size in meter\u001b[0m\u001b[1;33m\u001b[0m\u001b[1;33m\u001b[0m\u001b[0m\n\u001b[0;32m     20\u001b[0m \u001b[0mDx_m\u001b[0m \u001b[1;33m=\u001b[0m \u001b[0msetfreq\u001b[0m\u001b[1;33m(\u001b[0m\u001b[0mpx_size_m\u001b[0m\u001b[1;33m,\u001b[0m \u001b[0mimg_size_m\u001b[0m\u001b[1;33m)\u001b[0m\u001b[1;33m[\u001b[0m\u001b[1;36m2\u001b[0m\u001b[1;33m]\u001b[0m\u001b[1;33m\u001b[0m\u001b[1;33m\u001b[0m\u001b[0m\n",
      "\u001b[1;31mNameError\u001b[0m: name 'px_size_m' is not defined"
     ]
    }
   ],
   "source": [
    "def setfreq(px_size_m, img_size_m):\n",
    "    # setfreq() is a function theat does not accept any inputs, rather it sets the frequency scale of the fourier\n",
    "    #transformed image allowing the user to make comparasions between\n",
    "    #the frequencies of fourier transformed images \n",
    "    \n",
    "    import numpy as np\n",
    "    dx_m = px_size_m  #pixel size in meter\n",
    "    Dx_m = img_size_m      #image full size\n",
    "    x_m = np.linspace(-Dx_m/2, Dx_m/2, Dx_m/dx_m + 1)\n",
    "    real_axis = x_m\n",
    "    fs = 1/(real_axis[1]-real_axis[0])\n",
    "    Nfft=len(real_axis)\n",
    "            \n",
    "    df = fs/Nfft\n",
    "    f_cpm = np.linspace(0,(fs-df),Nfft) - (fs-np.mod(Nfft,2)*df)/2\n",
    "    return f_cpm, px_size_m, img_size_m\n",
    "\n",
    "f_cpm = setfreq(px_size_m, img_size_m)[0]\n",
    "dx_m = setfreq(px_size_m, img_size_m)[1]  #pixel size in meter\n",
    "Dx_m = setfreq(px_size_m, img_size_m)[2]\n"
   ]
  },
  {
   "cell_type": "code",
   "execution_count": null,
   "metadata": {},
   "outputs": [],
   "source": []
  }
 ],
 "metadata": {
  "kernelspec": {
   "display_name": "Python 3",
   "language": "python",
   "name": "python3"
  },
  "language_info": {
   "codemirror_mode": {
    "name": "ipython",
    "version": 3
   },
   "file_extension": ".py",
   "mimetype": "text/x-python",
   "name": "python",
   "nbconvert_exporter": "python",
   "pygments_lexer": "ipython3",
   "version": "3.7.3"
  }
 },
 "nbformat": 4,
 "nbformat_minor": 4
}
