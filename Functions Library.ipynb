{
 "cells": [
  {
   "cell_type": "markdown",
   "metadata": {},
   "source": [
    "# Morsy 6/29/20\n",
    "## Speckle Image Process"
   ]
  },
  {
   "cell_type": "markdown",
   "metadata": {},
   "source": [
    "### 1. Image Read"
   ]
  },
  {
   "cell_type": "code",
   "execution_count": 1,
   "metadata": {},
   "outputs": [],
   "source": [
    "def spkim(path, image_num):\n",
    "    # spkim(path, image_num) This function takes image path and speckle number as an input argouments and plots the image \n",
    "    #on pixel-sized axes. Also, the function will pair each \"spk_num\" with the corresponding image in global dictionary \"im_dic\"\n",
    "    # Note: the \"path\" must be typed in qoutation marks, and \"image_num\" must be an intger or a float. The function uses\n",
    "    #image number to lable each speckle image correctly in case of the function is used to process multiple images.\n",
    "    #\n",
    "    \n",
    "    from PIL import Image \n",
    "    import matplotlib.pyplot as plt\n",
    "    global im_dic\n",
    "\n",
    "    im_dic1 = {}\n",
    "    y = Image.open(path , \"r\" ) \n",
    "    im_dic1 = {('spk_'+ str(image_num)): y}# This line creates a global dictionary that pairs the \"spk_num\" to imported image\n",
    "    im_dic.update(im_dic1)\n",
    "    \n",
    "    %matplotlib inline\n",
    "    dx_m = 1*10**-6  #pixel size in meter\n",
    "    Dx_m = 1e-3      #image full size\n",
    "    extent = (-Dx_m/2 * 1e6, +Dx_m/2 * 1e6, -Dx_m/2 * 1e6, +Dx_m/2 * 1e6) \n",
    "    plt.imshow(y, extent = extent, cmap = 'inferno')\n",
    "    plt.xlabel('Horizontal Position [um]')\n",
    "    plt.ylabel('Vertical Positon [um]')\n",
    "    plt.title('Speckel ' + str(image_num))\n",
    "    plt.colorbar()\n",
    "    plt.show()"
   ]
  },
  {
   "cell_type": "code",
   "execution_count": 2,
   "metadata": {},
   "outputs": [],
   "source": [
    "#spkim('C:\\\\Users\\\\User\\\\Downloads\\\\speckle_one.png', 1)\n",
    "#spkim(\"C:\\\\Users\\\\User\\\\Downloads\\\\speckle_two.png\", 2)\n",
    "#print(im_dic)\n",
    "#print(list(im_dic.keys())[list(im_dic.values()).index(im_dic['spk_1'])])\n"
   ]
  },
  {
   "cell_type": "markdown",
   "metadata": {},
   "source": [
    "### 2. Frequency Scale"
   ]
  },
  {
   "cell_type": "code",
   "execution_count": 3,
   "metadata": {},
   "outputs": [],
   "source": [
    "def setfreq():\n",
    "    # setfreq() is a function theat does not accept any inputs, rather it sets the frequency scale of the fourier\n",
    "    #transformed image allowing the user to make comparasions between\n",
    "    #the frequencies of fourier transformed images \n",
    "    \n",
    "    import numpy as np\n",
    "    dx_m = 1*10**-6  #pixel size in meter\n",
    "    Dx_m = 1e-3      #image full size\n",
    "    x_m = np.linspace(-Dx_m/2, Dx_m/2, Dx_m/dx_m + 1)\n",
    "    real_axis = x_m\n",
    "    fs = 1/(real_axis[1]-real_axis[0])\n",
    "    Nfft=len(real_axis)\n",
    "            \n",
    "    df = fs/Nfft\n",
    "    f_cpm = np.linspace(0,(fs-df),Nfft) - (fs-np.mod(Nfft,2)*df)/2\n",
    "    \n",
    "    #print(dx_m)\n",
    "    #print(Dx_m)\n",
    "    #print(x_m)\n",
    "    #print(real_axis)\n",
    "    #print(Nfft)"
   ]
  },
  {
   "cell_type": "code",
   "execution_count": 4,
   "metadata": {},
   "outputs": [],
   "source": [
    "#setfreq()"
   ]
  },
  {
   "cell_type": "markdown",
   "metadata": {},
   "source": [
    "### 3. Fourier Transform"
   ]
  },
  {
   "cell_type": "code",
   "execution_count": 5,
   "metadata": {},
   "outputs": [],
   "source": [
    "def ftim(spk_num):\n",
    "    # ftim(spk_num) is a function that: First, it converts imput image into a nympy array. Second, it preforms\n",
    "    # a fourier transformation. Lastly, it plots the transformation on frequncy scale.\n",
    "    # Note: Input of this function should be in the form of an image file that has been already imported. If \"spkim()\" function\n",
    "    # was used prior to \"ftim()\", then input can be optained using the keys of the global dictionary im_dic. \n",
    "    #EX: ftim(im_dic['spk_1'])\n",
    "    \n",
    "    import numpy as np\n",
    "    import matplotlib.pyplot as plt\n",
    "    \n",
    "    dx_m = 1*10**-6  #pixel size in meter\n",
    "    Dx_m = 1e-3      #image full size\n",
    "    x_m = np.linspace(-Dx_m/2, Dx_m/2, Dx_m/dx_m + 1)\n",
    "    real_axis = x_m\n",
    "    fs = 1/(real_axis[1]-real_axis[0])\n",
    "    Nfft=len(real_axis)\n",
    "            \n",
    "    df = fs/Nfft\n",
    "    f_cpm = np.linspace(0,(fs-df),Nfft) - (fs-np.mod(Nfft,2)*df)/2\n",
    "    \n",
    "    %matplotlib inline\n",
    "    data_1 = np.asarray(spk_num) # Converts the image into a numpy array\n",
    "    Y1 = np.fft.fftshift(np.fft.fft2(data_1))  # it rearranges the fourier transform to make it symetrical about zero\n",
    "\n",
    "    df_cpm = f_cpm[1] - f_cpm[0]  #pixel size in meter\n",
    "    Df_cpm = f_cpm[-1] - f_cpm[0]      #image full size\n",
    "    extent = (-Df_cpm/2 * 1e-6, +Df_cpm/2 * 1e-6, -Df_cpm/2 * 1e-6, +Df_cpm/2 * 1e-6) \n",
    "\n",
    "    plt.imshow(np.abs(Y1)**0.1, extent = extent)\n",
    "    plt.xlabel('Freq[/um]')\n",
    "    plt.ylabel('Freq[/um]')\n",
    "    plt.title('PSD '+ list(im_dic.keys())[list(im_dic.values()).index(spk_num)] + ' Magnitude') # adds the dictionary(spk_num)\n",
    "                                                                                                    #key to plot title\n",
    "    plt.show()"
   ]
  },
  {
   "cell_type": "code",
   "execution_count": 6,
   "metadata": {},
   "outputs": [],
   "source": [
    "#ftim(im_dic['spk_1'])\n",
    "#ftim(im_dic['spk_2'])"
   ]
  },
  {
   "cell_type": "markdown",
   "metadata": {},
   "source": [
    "### 4. Circle Sum"
   ]
  },
  {
   "cell_type": "code",
   "execution_count": 7,
   "metadata": {},
   "outputs": [],
   "source": [
    "def circsum(spk_num):\n",
    "    \n",
    "    import numpy as np\n",
    "    import matplotlib.pyplot as plt\n",
    "    \n",
    "    dx_m = 1*10**-6  #pixel size in meter\n",
    "    Dx_m = 1e-3      #image full size\n",
    "    x_m = np.linspace(-Dx_m/2, Dx_m/2, Dx_m/dx_m + 1)\n",
    "    real_axis = x_m\n",
    "    fs = 1/(real_axis[1]-real_axis[0])\n",
    "    Nfft=len(real_axis)\n",
    "    \n",
    "    df = fs/Nfft\n",
    "    f_cpm = np.linspace(0,(fs-df),Nfft) - (fs-np.mod(Nfft,2)*df)/2\n",
    "    df_cpm = f_cpm[1] - f_cpm[0]  #pixel size in meter\n",
    "    Df_cpm = f_cpm[-1] - f_cpm[0]      #image full size\n",
    "            \n",
    "    \n",
    "    \n",
    "    (Fx, Fy) = np.meshgrid(f_cpm, f_cpm)\n",
    "    Z = Fx**2 + Fy**2    # Equation of a circule\n",
    "    r = df_cpm * 100      # Radious of the ring\n",
    "    dr = df_cpm * 1     # Thikness of the ring\n",
    "#a = np.where(Z >= 10)\n",
    "#a = np.where(np.abs(Z - 10) < 1) \n",
    "    a = np.where(np.abs(Z - r**2) < dr**2)   # Creates an array that contained zeros everywhere exept for the radii\n",
    "    A = Z * 0\n",
    "    A[a] = 1\n",
    "\n",
    "    extent = (-Df_cpm/2 * 1e-6, +Df_cpm/2 * 1e-6, -Df_cpm/2 * 1e-6, +Df_cpm/2 * 1e-6)\n",
    "    \n",
    "    N = 501\n",
    "    circ_sum_1 = np.zeros(N)\n",
    "    for i in np.arange(N):\n",
    "        r = df_cpm * i      # Radious of the ring\n",
    "        dr = df_cpm     # Thikness of the ring\n",
    "    #a = np.where(np.abs(Z - r**2) <= dr**2)   # Creates an array that contained zeros everywhere exept for the radii\n",
    "        a = np.where((Z >= r**2) & (Z < (r + dr)**2))\n",
    "        A = Z * 0\n",
    "        A[a] = 1\n",
    "        \n",
    "        data_1 = np.asarray(spk_num) # Converts the image into a numpy array\n",
    "        Y1 = np.fft.fftshift(np.fft.fft2(data_1))  # it rearranges the fourier transform to make it symetrical about zero\n",
    "\n",
    "        circ_sum_1[i] = np.sum(np.abs(Y1) * A) / np.sum(A)\n",
    "        temp_1 = np.sum(np.abs(Y1) *A)\n",
    "    plt.plot(f_cpm[500:] * 1e-6, circ_sum_1)\n",
    "    plt.ylim((0, 10000))\n",
    "    plt.title(list(im_dic.keys())[list(im_dic.values()).index(spk_num)])\n",
    "    plt.xlabel('Freq[/um]')\n",
    "    plt.ylabel('Circular Sum of PSD')\n",
    "    plt.show()\n"
   ]
  },
  {
   "cell_type": "code",
   "execution_count": 8,
   "metadata": {},
   "outputs": [],
   "source": [
    "#circsum(im_dic['spk_1'])\n",
    "#circsum(im_dic['spk_2'])"
   ]
  },
  {
   "cell_type": "code",
   "execution_count": null,
   "metadata": {},
   "outputs": [],
   "source": []
  },
  {
   "cell_type": "code",
   "execution_count": null,
   "metadata": {},
   "outputs": [],
   "source": []
  }
 ],
 "metadata": {
  "kernelspec": {
   "display_name": "Python 3",
   "language": "python",
   "name": "python3"
  },
  "language_info": {
   "codemirror_mode": {
    "name": "ipython",
    "version": 3
   },
   "file_extension": ".py",
   "mimetype": "text/x-python",
   "name": "python",
   "nbconvert_exporter": "python",
   "pygments_lexer": "ipython3",
   "version": "3.7.3"
  }
 },
 "nbformat": 4,
 "nbformat_minor": 4
}
