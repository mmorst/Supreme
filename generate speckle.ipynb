{
 "cells": [
  {
   "cell_type": "markdown",
   "metadata": {},
   "source": [
    "# Generate speckle"
   ]
  },
  {
   "cell_type": "markdown",
   "metadata": {},
   "source": [
    "In this notebook, we will study of to generate speckle"
   ]
  },
  {
   "cell_type": "code",
   "execution_count": null,
   "metadata": {},
   "outputs": [],
   "source": [
    "#awojdyla@lbl.gov, July 2020"
   ]
  },
  {
   "cell_type": "code",
   "execution_count": 1,
   "metadata": {},
   "outputs": [],
   "source": [
    "import numpy as np\n",
    "# defining simulations parameters"
   ]
  },
  {
   "cell_type": "code",
   "execution_count": 49,
   "metadata": {},
   "outputs": [],
   "source": [
    "def ft(t):\n",
    "    return np.fft.fftshift( np.fft.fft2(np.fft.ifftshift(t)))"
   ]
  },
  {
   "cell_type": "code",
   "execution_count": 50,
   "metadata": {},
   "outputs": [],
   "source": [
    "def ift(t):\n",
    "    return np.fft.fftshift(np.fft.ifft2(np.fft.ifftshift(t)))"
   ]
  },
  {
   "cell_type": "code",
   "execution_count": 51,
   "metadata": {},
   "outputs": [],
   "source": [
    "def fs(t):\n",
    "    return (np.arange(0,1/(t[1]-t[0]),1/((t[1]-t[0])*len(t)))) - (1/(t[1]-t[0])-np.mod(len(t),2)*1/((t[1]-t[0])*len(t)))/2"
   ]
  },
  {
   "cell_type": "code",
   "execution_count": 52,
   "metadata": {},
   "outputs": [],
   "source": [
    "def propTF(E_in,L_m,lambda_m,z_m):\n",
    "    #get input field array size\n",
    "    (Nx, Ny)=np.shape(E_in); \n",
    "    dx=L_m/Nx; #sample interval\n",
    "\n",
    "    #(dx<lambda.*z/L)\n",
    "\n",
    "\n",
    "    fx = fs(np.arange(Nx)*dx);\n",
    "    if Ny>2:\n",
    "        fy = fs(np.arange(Ny)*dx);\n",
    "    else:\n",
    "        fy = 0;\n",
    "\n",
    "    [FX,FY]= np.meshgrid(fx,fy);\n",
    "\n",
    "    H=np.exp(-1j*np.pi*lambda_m*z_m*(FX**2+FY**2))\n",
    "\n",
    "    E_out = ft(ft(E_in)*H);\n",
    "    \n",
    "    return E_out"
   ]
  },
  {
   "cell_type": "code",
   "execution_count": 53,
   "metadata": {},
   "outputs": [],
   "source": [
    "def gaussian(x_px, mean_px, fwhm_px):\n",
    "            sigma_x = fwhm_px/(2*np.sqrt(2*np.log(2)));\n",
    "            return np.exp(-((x_px-mean_px)/(np.sqrt(2)*sigma_x))**2);"
   ]
  },
  {
   "cell_type": "code",
   "execution_count": 54,
   "metadata": {},
   "outputs": [],
   "source": [
    "# screen size\n",
    "L_m = 1e-3;\n",
    "# pixel size\n",
    "dx_m= 1e-6;\n",
    "\n",
    "# define spatial axis\n",
    "x_m = np.linspace(-L_m/2,L_m/2,int(np.floor(L_m/dx_m)))\n",
    "N = len(x_m);\n",
    "\n",
    "# wavelength\n",
    "lambda_m = 1e-6;\n",
    "\n",
    "# ccd position\n",
    "z_m = 0.300e-3;\n",
    "\n",
    "(X_m,Y_m) = np.meshgrid(x_m,x_m);\n",
    "# define frequency axis\n",
    "f_cpm = fs(x_m);\n",
    "(Fx, Fy) = np.meshgrid(f_cpm,f_cpm);"
   ]
  },
  {
   "cell_type": "code",
   "execution_count": 79,
   "metadata": {},
   "outputs": [],
   "source": [
    "# frequency filter\n",
    "fc_cpm = 1e6;\n",
    "GFILT = gaussian(Fx, 0, fc_cpm)*gaussian(Fy, 0, fc_cpm);"
   ]
  },
  {
   "cell_type": "code",
   "execution_count": 72,
   "metadata": {},
   "outputs": [],
   "source": [
    "# generation of speckle and propagations\n",
    "noise = np.random.randn(N,N)\n",
    "noise_filt = np.abs(ift(ft(noise)*GFILT));\n",
    "noise_filt = noise_filt/np.std(noise_filt);"
   ]
  },
  {
   "cell_type": "code",
   "execution_count": 73,
   "metadata": {},
   "outputs": [],
   "source": [
    "# generate laser beam\n",
    "E0 = gaussian(X_m, 0, 500e-6)*gaussian(Y_m, 0, 500e-6);\n",
    "# add speckle to beam\n",
    "E1 = E0*np.exp(1j*2*np.pi*noise_filt/20);\n"
   ]
  },
  {
   "cell_type": "code",
   "execution_count": 74,
   "metadata": {},
   "outputs": [],
   "source": [
    "# propagation\n",
    "E2 = propTF(E1,L_m,lambda_m,z_m);\n",
    "I = np.abs(E2)**2"
   ]
  }
 ],
 "metadata": {
  "kernelspec": {
   "display_name": "Python 3",
   "language": "python",
   "name": "python3"
  },
  "language_info": {
   "codemirror_mode": {
    "name": "ipython",
    "version": 3
   },
   "file_extension": ".py",
   "mimetype": "text/x-python",
   "name": "python",
   "nbconvert_exporter": "python",
   "pygments_lexer": "ipython3",
   "version": "3.7.7"
  }
 },
 "nbformat": 4,
 "nbformat_minor": 4
}
